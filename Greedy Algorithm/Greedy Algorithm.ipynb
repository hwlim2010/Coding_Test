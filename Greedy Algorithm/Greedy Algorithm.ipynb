{
 "cells": [
  {
   "cell_type": "markdown",
   "id": "fdc740d4",
   "metadata": {},
   "source": [
    "# <예제> 거스름 돈: 답안 예시"
   ]
  },
  {
   "cell_type": "code",
   "execution_count": 2,
   "id": "36b809b1",
   "metadata": {
    "ExecuteTime": {
     "end_time": "2022-01-28T14:35:05.845042Z",
     "start_time": "2022-01-28T14:35:05.830451Z"
    }
   },
   "outputs": [
    {
     "name": "stdout",
     "output_type": "stream",
     "text": [
      "6\n"
     ]
    }
   ],
   "source": [
    "n = 1260\n",
    "# n = int(input())\n",
    "count = 0\n",
    "\n",
    "# 큰 단위의 화폐부터 차례대로 확인하기\n",
    "array = [500, 100, 50, 10]\n",
    "\n",
    "for coin in array:\n",
    "    count += n // coin # 해당 화폐로 거슬러 줄 수 있는 동전의 개수 세기\n",
    "    n %= coin\n",
    "    \n",
    "print(count)"
   ]
  },
  {
   "cell_type": "markdown",
   "id": "6cc40f3d",
   "metadata": {},
   "source": [
    "# <실전 문제> 큰 수의 법칙"
   ]
  },
  {
   "cell_type": "markdown",
   "id": "f75f3132",
   "metadata": {},
   "source": [
    "<문제> 배열의 크기 N, 숫자가 더해지는 횟수 M, 그리고 K가 주어질 때 동빈이의 큰 수의 법칙에 따른 결과를 출력하시오.\n",
    "\n",
    "**입력 조건**\n",
    "- 첫째 줄에 N(2 <= N <= 1000), M(1 <= M <= 10,000), K(1 <= K <= 10,000)의 자연수가 주어지며, 각 자연수는 공백으로 구분한다.\n",
    "- 둘째 줄에 N개의 자연수가 주어진다. 각 자연수는 공백으로 구분한다. 단, 각각의 자연수는 1 이상 10,000 이하의 수로 주어진다.\n",
    "입력으로 주어지는 K는 항상 M보다 작거나 같다.\n",
    "\n",
    "**출력 조건**\n",
    "- 첫째 줄에 동빈이의 큰 수의 법칙에 따라 더해진 답을 출력한다."
   ]
  },
  {
   "cell_type": "code",
   "execution_count": 1,
   "id": "a7aaee42",
   "metadata": {
    "ExecuteTime": {
     "end_time": "2022-01-29T16:31:40.521848Z",
     "start_time": "2022-01-29T16:31:33.853103Z"
    }
   },
   "outputs": [
    {
     "name": "stdout",
     "output_type": "stream",
     "text": [
      "5 8 3\n",
      "2 4 5 4 6\n",
      "46\n"
     ]
    }
   ],
   "source": [
    "# N, M, K를 공백으로 구분하여 입력받기\n",
    "n, m, k = map(int, input().split())\n",
    "# N개의 수를 공백으로 구분하여 입력받기\n",
    "data = list(map(int, input().split()))\n",
    "\n",
    "data.sort() # 입력받은 수들 정렬하기\n",
    "first = data[n - 1] # 가장 큰 수 , 이유: sort\n",
    "second = data[n- 2] # 두 번째로 큰 수\n",
    "\n",
    "result = 0\n",
    "\n",
    "while True:\n",
    "    for i in range(k):# 가장 큰 수를 K번 더하기\n",
    "        if m == 0: # m이 0이라면 반복문 탈출\n",
    "            break\n",
    "        result += first\n",
    "        m -= 1 # 더할 때마다 1씩 빼기\n",
    "    if m == 0:# m이 0이라면 반복문 탈출\n",
    "        break\n",
    "    result += second # 두 번째로 큰 수를 한 번 더하기\n",
    "    m -= 1 # 더할 때마다 1식 빼기\n",
    "    \n",
    "print(result) # 최종 답안 출력"
   ]
  },
  {
   "cell_type": "markdown",
   "id": "8c24ec86",
   "metadata": {},
   "source": [
    "- 간단한 수학적 아이디어를 이용해 더 효율적으로 문제 해결해보자."
   ]
  },
  {
   "cell_type": "code",
   "execution_count": 11,
   "id": "23b5be22",
   "metadata": {
    "ExecuteTime": {
     "end_time": "2022-01-29T17:06:24.037010Z",
     "start_time": "2022-01-29T17:06:17.570642Z"
    }
   },
   "outputs": [
    {
     "name": "stdout",
     "output_type": "stream",
     "text": [
      "5 8 3\n",
      "2 4 5 4 6\n",
      "46\n"
     ]
    }
   ],
   "source": [
    "# N, M, K를 공백으로 구분하여 입력받기\n",
    "n, m, k = map(int, input().split())\n",
    "# N개의 수를 공백으로 구분하여 입력받기\n",
    "data = list(map(int, input().split()))\n",
    "\n",
    "data.sort() # 입력받은 수들 정렬하기\n",
    "first = data[n - 1] # 가장 큰 수 , 이유: sort\n",
    "second = data[n- 2] # 두 번째로 큰 수\n",
    "# 가장 큰 수 더해지는 횟수 계산\n",
    "count = int(m / (k + 1)) * k\n",
    "count += m % (k + 1) # 나누어 떨어지지 않았을 경우\n",
    "\n",
    "result = 0\n",
    "result += count * first # 가장 큰 수 더하기\n",
    "result += (m - count) * second # 두 번째로 큰수 더하기\n",
    "\n",
    "print(result)"
   ]
  },
  {
   "cell_type": "code",
   "execution_count": null,
   "id": "6512d69b",
   "metadata": {},
   "outputs": [],
   "source": []
  },
  {
   "cell_type": "code",
   "execution_count": null,
   "id": "43f3acb4",
   "metadata": {},
   "outputs": [],
   "source": []
  },
  {
   "cell_type": "code",
   "execution_count": null,
   "id": "17c5ccc4",
   "metadata": {},
   "outputs": [],
   "source": []
  },
  {
   "cell_type": "code",
   "execution_count": null,
   "id": "f5d0d8a0",
   "metadata": {},
   "outputs": [],
   "source": []
  }
 ],
 "metadata": {
  "kernelspec": {
   "display_name": "Python 3",
   "language": "python",
   "name": "python3"
  },
  "language_info": {
   "codemirror_mode": {
    "name": "ipython",
    "version": 3
   },
   "file_extension": ".py",
   "mimetype": "text/x-python",
   "name": "python",
   "nbconvert_exporter": "python",
   "pygments_lexer": "ipython3",
   "version": "3.8.8"
  },
  "toc": {
   "base_numbering": 1,
   "nav_menu": {},
   "number_sections": true,
   "sideBar": true,
   "skip_h1_title": false,
   "title_cell": "Table of Contents",
   "title_sidebar": "Contents",
   "toc_cell": false,
   "toc_position": {},
   "toc_section_display": true,
   "toc_window_display": false
  }
 },
 "nbformat": 4,
 "nbformat_minor": 5
}
